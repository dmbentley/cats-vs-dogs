{
 "cells": [
  {
   "cell_type": "code",
   "execution_count": 1,
   "metadata": {},
   "outputs": [
    {
     "name": "stdout",
     "output_type": "stream",
     "text": [
      "\n",
      "WARNING: The TensorFlow contrib module will not be included in TensorFlow 2.0.\n",
      "For more information, please see:\n",
      "  * https://github.com/tensorflow/community/blob/master/rfcs/20180907-contrib-sunset.md\n",
      "  * https://github.com/tensorflow/addons\n",
      "If you depend on functionality not listed there, please file an issue.\n",
      "\n"
     ]
    },
    {
     "name": "stderr",
     "output_type": "stream",
     "text": [
      "Using TensorFlow backend.\n"
     ]
    }
   ],
   "source": [
    "import numpy as np\n",
    "import pandas as pd\n",
    "\n",
    "import tensorflow as tf\n",
    "import tensorflow_datasets as tfds\n",
    "\n",
    "from keras.models import Sequential\n",
    "from keras.layers import Dense, Conv2D, Flatten, MaxPooling2D, Dropout\n",
    "import keras.backend as K\n",
    "from keras import optimizers\n",
    "\n",
    "from sklearn.model_selection import train_test_split\n",
    "import matplotlib.pyplot as plt\n",
    "import seaborn as sns\n",
    "\n",
    "from keras.utils.np_utils import to_categorical\n",
    "\n",
    "from skimage import color\n",
    "\n",
    "from PIL import Image\n",
    "\n",
    "from keract import get_activations\n",
    "\n",
    "from tqdm import tqdm_notebook"
   ]
  },
  {
   "cell_type": "code",
   "execution_count": 2,
   "metadata": {},
   "outputs": [
    {
     "name": "stdout",
     "output_type": "stream",
     "text": [
      "WARNING:tensorflow:From /home/david/cats-vs-dogs/venv/lib/python3.6/site-packages/tensorflow/python/ops/control_flow_ops.py:423: colocate_with (from tensorflow.python.framework.ops) is deprecated and will be removed in a future version.\n",
      "Instructions for updating:\n",
      "Colocations handled automatically by placer.\n"
     ]
    },
    {
     "name": "stderr",
     "output_type": "stream",
     "text": [
      "WARNING: Logging before flag parsing goes to stderr.\n",
      "W0604 12:05:10.031577 140293092321024 deprecation.py:323] From /home/david/cats-vs-dogs/venv/lib/python3.6/site-packages/tensorflow/python/ops/control_flow_ops.py:423: colocate_with (from tensorflow.python.framework.ops) is deprecated and will be removed in a future version.\n",
      "Instructions for updating:\n",
      "Colocations handled automatically by placer.\n"
     ]
    }
   ],
   "source": [
    "download_data = False\n",
    "\n",
    "if download_data:\n",
    "    \n",
    "    data, info = tfds.load('cats_vs_dogs', with_info=True, data_dir='./data')\n",
    "\n",
    "else:\n",
    "        \n",
    "    data, info = tfds.load('cats_vs_dogs', with_info=True, download=False, data_dir='./data')\n"
   ]
  },
  {
   "cell_type": "code",
   "execution_count": 24,
   "metadata": {},
   "outputs": [
    {
     "name": "stdout",
     "output_type": "stream",
     "text": [
      "tfds.core.DatasetInfo(\n",
      "    name='cats_vs_dogs',\n",
      "    version=2.0.1,\n",
      "    description='A large set of images of cats and dogs.There are 1738 corrupted images that are dropped.',\n",
      "    urls=['https://www.microsoft.com/en-us/download/details.aspx?id=54765'],\n",
      "    features=FeaturesDict({\n",
      "        'image': Image(shape=(None, None, 3), dtype=tf.uint8),\n",
      "        'image/filename': Text(shape=(), dtype=tf.string, encoder=None),\n",
      "        'label': ClassLabel(shape=(), dtype=tf.int64, num_classes=2)\n",
      "    },\n",
      "    total_num_examples=23262,\n",
      "    splits={\n",
      "        'train': <tfds.core.SplitInfo num_examples=23262>\n",
      "    },\n",
      "    supervised_keys=('image', 'label'),\n",
      "    citation='\"\"\"\n",
      "        @Inproceedings (Conference){asirra-a-captcha-that-exploits-interest-aligned-manual-image-categorization,\n",
      "        author = {Elson, Jeremy and Douceur, John (JD) and Howell, Jon and Saul, Jared},\n",
      "        title = {Asirra: A CAPTCHA that Exploits Interest-Aligned Manual Image Categorization},\n",
      "        booktitle = {Proceedings of 14th ACM Conference on Computer and Communications Security (CCS)},\n",
      "        year = {2007},\n",
      "        month = {October},\n",
      "        publisher = {Association for Computing Machinery, Inc.},\n",
      "        url = {https://www.microsoft.com/en-us/research/publication/asirra-a-captcha-that-exploits-interest-aligned-manual-image-categorization/},\n",
      "        edition = {Proceedings of 14th ACM Conference on Computer and Communications Security (CCS)},\n",
      "        }\n",
      "        \n",
      "    \"\"\"',\n",
      "    redistribution_info=,\n",
      ")\n",
      "\n"
     ]
    }
   ],
   "source": [
    "print(info)"
   ]
  },
  {
   "cell_type": "code",
   "execution_count": 10,
   "metadata": {},
   "outputs": [],
   "source": [
    "image_data = tfds.as_numpy(data['train'])"
   ]
  },
  {
   "cell_type": "code",
   "execution_count": 11,
   "metadata": {},
   "outputs": [
    {
     "data": {
      "application/vnd.jupyter.widget-view+json": {
       "model_id": "03a1a545931c48d98c6976f9c3a54d22",
       "version_major": 2,
       "version_minor": 0
      },
      "text/plain": [
       "HBox(children=(IntProgress(value=0, description='Resizing Images', max=23262, style=ProgressStyle(description_…"
      ]
     },
     "metadata": {},
     "output_type": "display_data"
    },
    {
     "name": "stdout",
     "output_type": "stream",
     "text": [
      "\n"
     ]
    }
   ],
   "source": [
    "dim_resize = (50,50)\n",
    "\n",
    "X = []\n",
    "y = []\n",
    "\n",
    "for image in tqdm_notebook(image_data, total=23262, desc='Resizing Images'):      \n",
    "    \n",
    "    img = np.array(image['image'])\n",
    "    img = Image.fromarray(img)\n",
    "    img = img.convert('L') \n",
    "    img = img.resize(dim_resize)\n",
    "    \n",
    "    #img_flipped = img.transpose(Image.FLIP_LEFT_RIGHT)\n",
    "   \n",
    "    X.append(np.array(img)/255)\n",
    "    y.append(image['label'])\n",
    "   \n",
    "    #X.append(np.array(img_flipped)/255)\n",
    "    #y.append(image['label'])\n",
    " \n",
    "  \n",
    "X = np.array(X)\n",
    "y = np.array(y)"
   ]
  },
  {
   "cell_type": "code",
   "execution_count": 12,
   "metadata": {},
   "outputs": [
    {
     "data": {
      "text/plain": [
       "(23262, 50, 50)"
      ]
     },
     "execution_count": 12,
     "metadata": {},
     "output_type": "execute_result"
    }
   ],
   "source": [
    "X.shape"
   ]
  },
  {
   "cell_type": "code",
   "execution_count": 13,
   "metadata": {},
   "outputs": [],
   "source": [
    "X = X.reshape(len(X), dim_resize[0], dim_resize[1], 1)"
   ]
  },
  {
   "cell_type": "code",
   "execution_count": 10,
   "metadata": {},
   "outputs": [
    {
     "data": {
      "text/plain": [
       "(23262, 50, 50, 1)"
      ]
     },
     "execution_count": 10,
     "metadata": {},
     "output_type": "execute_result"
    }
   ],
   "source": [
    "X.shape"
   ]
  },
  {
   "cell_type": "code",
   "execution_count": 14,
   "metadata": {},
   "outputs": [],
   "source": [
    "y=y.reshape(len(y),1)"
   ]
  },
  {
   "cell_type": "code",
   "execution_count": 14,
   "metadata": {},
   "outputs": [
    {
     "data": {
      "image/png": "[encoded data removed]",
      "text/plain": [
       "<Figure size 432x288 with 1 Axes>"
      ]
     },
     "metadata": {
      "needs_background": "light"
     },
     "output_type": "display_data"
    }
   ],
   "source": [
    "i = 4\n",
    "\n",
    "plt.imshow(X_train[i].reshape(dim_resize), cmap='gray')\n",
    "plt.title(y_train[i])\n",
    "plt.show()\n",
    "\n"
   ]
  },
  {
   "cell_type": "code",
   "execution_count": 16,
   "metadata": {},
   "outputs": [],
   "source": [
    "X_train, X_test, y_train, y_test = train_test_split(X, y, test_size=0.15, random_state=0)\n",
    "X_train, X_validate, y_train, y_validate = train_test_split(X_train, y_train, test_size=0.1765, random_state=0)"
   ]
  },
  {
   "cell_type": "markdown",
   "metadata": {},
   "source": [
    "## First Model"
   ]
  },
  {
   "cell_type": "code",
   "execution_count": 47,
   "metadata": {},
   "outputs": [],
   "source": [
    "#MODEL FOR (50,50) 74% Note: sigmoid fully connected last layer. Softmax was not working!?\n",
    "\n",
    "model = Sequential()\n",
    "\n",
    "\n",
    "model.add(Conv2D(10, kernel_size=(6,6), activation='relu', input_shape=X_train[0].shape))\n",
    "model.add(MaxPooling2D(pool_size=(2,2)))\n",
    "model.add(Dropout(0.2))\n",
    "\n",
    "model.add(Conv2D(20, kernel_size=(3,3), activation='relu'))\n",
    "model.add(MaxPooling2D(pool_size=(2,2)))\n",
    "model.add(Dropout(0.2))\n",
    "\n",
    "model.add(Conv2D(30, kernel_size=(2,2), activation='relu'))\n",
    "model.add(MaxPooling2D(pool_size=(2,2)))\n",
    "model.add(Dropout(0.2))\n",
    "\n",
    "model.add(Flatten())\n",
    "model.add(Dense(20, activation='relu'))\n",
    "\n",
    "\n",
    "model.add(Dense(1, activation='sigmoid'))"
   ]
  },
  {
   "cell_type": "code",
   "execution_count": 48,
   "metadata": {},
   "outputs": [
    {
     "name": "stdout",
     "output_type": "stream",
     "text": [
      "_________________________________________________________________\n",
      "Layer (type)                 Output Shape              Param #   \n",
      "=================================================================\n",
      "conv2d_23 (Conv2D)           (None, 45, 45, 10)        370       \n",
      "_________________________________________________________________\n",
      "max_pooling2d_23 (MaxPooling (None, 22, 22, 10)        0         \n",
      "_________________________________________________________________\n",
      "dropout_24 (Dropout)         (None, 22, 22, 10)        0         \n",
      "_________________________________________________________________\n",
      "conv2d_24 (Conv2D)           (None, 20, 20, 20)        1820      \n",
      "_________________________________________________________________\n",
      "max_pooling2d_24 (MaxPooling (None, 10, 10, 20)        0         \n",
      "_________________________________________________________________\n",
      "dropout_25 (Dropout)         (None, 10, 10, 20)        0         \n",
      "_________________________________________________________________\n",
      "conv2d_25 (Conv2D)           (None, 9, 9, 30)          2430      \n",
      "_________________________________________________________________\n",
      "max_pooling2d_25 (MaxPooling (None, 4, 4, 30)          0         \n",
      "_________________________________________________________________\n",
      "dropout_26 (Dropout)         (None, 4, 4, 30)          0         \n",
      "_________________________________________________________________\n",
      "flatten_8 (Flatten)          (None, 480)               0         \n",
      "_________________________________________________________________\n",
      "dense_15 (Dense)             (None, 20)                9620      \n",
      "_________________________________________________________________\n",
      "dense_16 (Dense)             (None, 1)                 21        \n",
      "=================================================================\n",
      "Total params: 14,261\n",
      "Trainable params: 14,261\n",
      "Non-trainable params: 0\n",
      "_________________________________________________________________\n"
     ]
    }
   ],
   "source": [
    "model.summary()"
   ]
  },
  {
   "cell_type": "code",
   "execution_count": 49,
   "metadata": {},
   "outputs": [],
   "source": [
    "model.compile(optimizer='adam', loss='binary_crossentropy', metrics=['accuracy'])"
   ]
  },
  {
   "cell_type": "code",
   "execution_count": 50,
   "metadata": {},
   "outputs": [
    {
     "name": "stdout",
     "output_type": "stream",
     "text": [
      "Train on 16282 samples, validate on 3490 samples\n",
      "Epoch 1/40\n",
      "16282/16282 [==============================] - 40s 2ms/step - loss: 0.6848 - acc: 0.5503 - val_loss: 0.6917 - val_acc: 0.5186\n",
      "Epoch 2/40\n",
      "16282/16282 [==============================] - 37s 2ms/step - loss: 0.6551 - acc: 0.6155 - val_loss: 0.6362 - val_acc: 0.6527\n",
      "Epoch 3/40\n",
      "16282/16282 [==============================] - 37s 2ms/step - loss: 0.6280 - acc: 0.6457 - val_loss: 0.6152 - val_acc: 0.6845\n",
      "Epoch 4/40\n",
      "16282/16282 [==============================] - 37s 2ms/step - loss: 0.6039 - acc: 0.6735 - val_loss: 0.5925 - val_acc: 0.7009\n",
      "Epoch 5/40\n",
      "16282/16282 [==============================] - 37s 2ms/step - loss: 0.5890 - acc: 0.6857 - val_loss: 0.5854 - val_acc: 0.6983\n",
      "Epoch 6/40\n",
      "16282/16282 [==============================] - 37s 2ms/step - loss: 0.5763 - acc: 0.6997 - val_loss: 0.5690 - val_acc: 0.7049\n",
      "Epoch 7/40\n",
      "16282/16282 [==============================] - 37s 2ms/step - loss: 0.5637 - acc: 0.7094 - val_loss: 0.5773 - val_acc: 0.6951\n",
      "Epoch 8/40\n",
      "16282/16282 [==============================] - 37s 2ms/step - loss: 0.5527 - acc: 0.7176 - val_loss: 0.5588 - val_acc: 0.7112\n",
      "Epoch 9/40\n",
      "16282/16282 [==============================] - 38s 2ms/step - loss: 0.5382 - acc: 0.7303 - val_loss: 0.5535 - val_acc: 0.7209\n",
      "Epoch 10/40\n",
      "16282/16282 [==============================] - 38s 2ms/step - loss: 0.5394 - acc: 0.7288 - val_loss: 0.5418 - val_acc: 0.7344\n",
      "Epoch 11/40\n",
      "16282/16282 [==============================] - 37s 2ms/step - loss: 0.5282 - acc: 0.7341 - val_loss: 0.5312 - val_acc: 0.7372\n",
      "Epoch 12/40\n",
      "16282/16282 [==============================] - 37s 2ms/step - loss: 0.5218 - acc: 0.7389 - val_loss: 0.5134 - val_acc: 0.7424\n",
      "Epoch 13/40\n",
      "16282/16282 [==============================] - 37s 2ms/step - loss: 0.5138 - acc: 0.7475 - val_loss: 0.5117 - val_acc: 0.7456\n",
      "Epoch 14/40\n",
      "16282/16282 [==============================] - 37s 2ms/step - loss: 0.5130 - acc: 0.7465 - val_loss: 0.5044 - val_acc: 0.7533\n",
      "Epoch 15/40\n",
      "16282/16282 [==============================] - 37s 2ms/step - loss: 0.5058 - acc: 0.7513 - val_loss: 0.5010 - val_acc: 0.7516\n",
      "Epoch 16/40\n",
      "16282/16282 [==============================] - 37s 2ms/step - loss: 0.5050 - acc: 0.7526 - val_loss: 0.5037 - val_acc: 0.7550\n",
      "Epoch 17/40\n",
      "16282/16282 [==============================] - 38s 2ms/step - loss: 0.4945 - acc: 0.7577 - val_loss: 0.5077 - val_acc: 0.7524\n",
      "Epoch 18/40\n",
      "16282/16282 [==============================] - 37s 2ms/step - loss: 0.4897 - acc: 0.7603 - val_loss: 0.5112 - val_acc: 0.7456\n",
      "Epoch 19/40\n",
      "16282/16282 [==============================] - 38s 2ms/step - loss: 0.4871 - acc: 0.7615 - val_loss: 0.5311 - val_acc: 0.7281\n",
      "Epoch 20/40\n",
      "16282/16282 [==============================] - 38s 2ms/step - loss: 0.4845 - acc: 0.7638 - val_loss: 0.4858 - val_acc: 0.7685\n",
      "Epoch 21/40\n",
      "16282/16282 [==============================] - 38s 2ms/step - loss: 0.4816 - acc: 0.7689 - val_loss: 0.5014 - val_acc: 0.7507\n",
      "Epoch 22/40\n",
      "16282/16282 [==============================] - 38s 2ms/step - loss: 0.4778 - acc: 0.7717 - val_loss: 0.4973 - val_acc: 0.7553\n",
      "Epoch 23/40\n",
      "16282/16282 [==============================] - 38s 2ms/step - loss: 0.4717 - acc: 0.7741 - val_loss: 0.4893 - val_acc: 0.7619\n",
      "Epoch 24/40\n",
      "16282/16282 [==============================] - 38s 2ms/step - loss: 0.4666 - acc: 0.7809 - val_loss: 0.4817 - val_acc: 0.7668\n",
      "Epoch 25/40\n",
      "16282/16282 [==============================] - 38s 2ms/step - loss: 0.4613 - acc: 0.7794 - val_loss: 0.4807 - val_acc: 0.7662\n",
      "Epoch 26/40\n",
      "16282/16282 [==============================] - 38s 2ms/step - loss: 0.4611 - acc: 0.7783 - val_loss: 0.4904 - val_acc: 0.7619\n",
      "Epoch 27/40\n",
      "16282/16282 [==============================] - 38s 2ms/step - loss: 0.4580 - acc: 0.7799 - val_loss: 0.4776 - val_acc: 0.7713\n",
      "Epoch 28/40\n",
      "16282/16282 [==============================] - 38s 2ms/step - loss: 0.4575 - acc: 0.7836 - val_loss: 0.4812 - val_acc: 0.7662\n",
      "Epoch 29/40\n",
      "16282/16282 [==============================] - 38s 2ms/step - loss: 0.4567 - acc: 0.7830 - val_loss: 0.4893 - val_acc: 0.7516\n",
      "Epoch 30/40\n",
      "16282/16282 [==============================] - 38s 2ms/step - loss: 0.4497 - acc: 0.7853 - val_loss: 0.4752 - val_acc: 0.7739\n",
      "Epoch 31/40\n",
      "16282/16282 [==============================] - 38s 2ms/step - loss: 0.4521 - acc: 0.7880 - val_loss: 0.4748 - val_acc: 0.7708\n",
      "Epoch 32/40\n",
      "16282/16282 [==============================] - 38s 2ms/step - loss: 0.4446 - acc: 0.7886 - val_loss: 0.4737 - val_acc: 0.7751\n",
      "Epoch 33/40\n",
      "16282/16282 [==============================] - 38s 2ms/step - loss: 0.4422 - acc: 0.7912 - val_loss: 0.4720 - val_acc: 0.7719\n",
      "Epoch 34/40\n",
      "16282/16282 [==============================] - 38s 2ms/step - loss: 0.4416 - acc: 0.7955 - val_loss: 0.4848 - val_acc: 0.7659\n",
      "Epoch 35/40\n",
      "16282/16282 [==============================] - 38s 2ms/step - loss: 0.4478 - acc: 0.7900 - val_loss: 0.4708 - val_acc: 0.7774\n",
      "Epoch 36/40\n",
      "16282/16282 [==============================] - 38s 2ms/step - loss: 0.4407 - acc: 0.7939 - val_loss: 0.4705 - val_acc: 0.7768\n",
      "Epoch 37/40\n",
      "16282/16282 [==============================] - 37s 2ms/step - loss: 0.4415 - acc: 0.7912 - val_loss: 0.5140 - val_acc: 0.7521\n",
      "Epoch 38/40\n",
      "16282/16282 [==============================] - 37s 2ms/step - loss: 0.4371 - acc: 0.7938 - val_loss: 0.4700 - val_acc: 0.7751\n",
      "Epoch 39/40\n",
      "16282/16282 [==============================] - 37s 2ms/step - loss: 0.4334 - acc: 0.7966 - val_loss: 0.4754 - val_acc: 0.7688\n",
      "Epoch 40/40\n",
      "16282/16282 [==============================] - 37s 2ms/step - loss: 0.4326 - acc: 0.7981 - val_loss: 0.4801 - val_acc: 0.7676\n"
     ]
    }
   ],
   "source": [
    "first_model_output = model.fit(X_train, y_train, epochs=40,  validation_data=(X_validate, y_validate))\n",
    "first_model = model"
   ]
  },
  {
   "cell_type": "code",
   "execution_count": 51,
   "metadata": {},
   "outputs": [],
   "source": [
    "metrics = pd.DataFrame(first_model_output.history)"
   ]
  },
  {
   "cell_type": "code",
   "execution_count": 52,
   "metadata": {},
   "outputs": [
    {
     "data": {
      "text/plain": [
       "<matplotlib.axes._subplots.AxesSubplot at 0x7f97cd6a6dd8>"
      ]
     },
     "execution_count": 52,
     "metadata": {},
     "output_type": "execute_result"
    },
    {
     "data": {
      "image/png": "[encoded data removed]",
      "text/plain": [
       "<Figure size 432x288 with 1 Axes>"
      ]
     },
     "metadata": {
      "needs_background": "light"
     },
     "output_type": "display_data"
    }
   ],
   "source": [
    "sns.lineplot(data=metrics, x = metrics.index, y='acc')\n",
    "sns.lineplot(data=metrics, x = metrics.index, y='val_acc')"
   ]
  },
  {
   "cell_type": "code",
   "execution_count": 53,
   "metadata": {},
   "outputs": [
    {
     "data": {
      "text/plain": [
       "<matplotlib.axes._subplots.AxesSubplot at 0x7f97cdf4f2e8>"
      ]
     },
     "execution_count": 53,
     "metadata": {},
     "output_type": "execute_result"
    },
    {
     "data": {
      "image/png": "[encoded data removed]",
      "text/plain": [
       "<Figure size 432x288 with 1 Axes>"
      ]
     },
     "metadata": {
      "needs_background": "light"
     },
     "output_type": "display_data"
    }
   ],
   "source": [
    "sns.lineplot(data=metrics, x = metrics.index, y='loss')\n",
    "sns.lineplot(data=metrics, x = metrics.index, y='val_loss')"
   ]
  },
  {
   "cell_type": "markdown",
   "metadata": {},
   "source": [
    "## Second Model"
   ]
  },
  {
   "cell_type": "code",
   "execution_count": 54,
   "metadata": {},
   "outputs": [],
   "source": [
    "# (50,50) model: 83% accuracy after ~30 epochs. Maybe higher...(probably not)\n",
    "model = Sequential()\n",
    "\n",
    "#add model layers\n",
    "model.add(Conv2D(32, kernel_size=(2,2), activation='relu', input_shape=X_train[0].shape))\n",
    "model.add(MaxPooling2D(pool_size=(2,2)))\n",
    "model.add(Dropout(0.2))\n",
    "\n",
    "model.add(Conv2D(64, kernel_size=(2,2), activation='relu'))\n",
    "model.add(MaxPooling2D(pool_size=(2,2)))\n",
    "model.add(Dropout(0.2))\n",
    "\n",
    "model.add(Conv2D(128, kernel_size=(2,2), activation='relu'))\n",
    "model.add(MaxPooling2D(pool_size=(2,2)))\n",
    "model.add(Dropout(0.2))\n",
    "\n",
    "model.add(Conv2D(256, kernel_size=(2,2), activation='relu'))\n",
    "model.add(MaxPooling2D(pool_size=(2,2)))\n",
    "model.add(Dropout(0.2))\n",
    "\n",
    "model.add(Flatten())\n",
    "model.add(Dense(512, activation='relu'))\n",
    "model.add(Dropout(0.2))\n",
    "\n",
    "model.add(Dense(1, activation='sigmoid'))\n",
    "#model.add(Dense(1, activation='softmax'))"
   ]
  },
  {
   "cell_type": "code",
   "execution_count": 55,
   "metadata": {},
   "outputs": [
    {
     "name": "stdout",
     "output_type": "stream",
     "text": [
      "_________________________________________________________________\n",
      "Layer (type)                 Output Shape              Param #   \n",
      "=================================================================\n",
      "conv2d_26 (Conv2D)           (None, 49, 49, 32)        160       \n",
      "_________________________________________________________________\n",
      "max_pooling2d_26 (MaxPooling (None, 24, 24, 32)        0         \n",
      "_________________________________________________________________\n",
      "dropout_27 (Dropout)         (None, 24, 24, 32)        0         \n",
      "_________________________________________________________________\n",
      "conv2d_27 (Conv2D)           (None, 23, 23, 64)        8256      \n",
      "_________________________________________________________________\n",
      "max_pooling2d_27 (MaxPooling (None, 11, 11, 64)        0         \n",
      "_________________________________________________________________\n",
      "dropout_28 (Dropout)         (None, 11, 11, 64)        0         \n",
      "_________________________________________________________________\n",
      "conv2d_28 (Conv2D)           (None, 10, 10, 128)       32896     \n",
      "_________________________________________________________________\n",
      "max_pooling2d_28 (MaxPooling (None, 5, 5, 128)         0         \n",
      "_________________________________________________________________\n",
      "dropout_29 (Dropout)         (None, 5, 5, 128)         0         \n",
      "_________________________________________________________________\n",
      "conv2d_29 (Conv2D)           (None, 4, 4, 256)         131328    \n",
      "_________________________________________________________________\n",
      "max_pooling2d_29 (MaxPooling (None, 2, 2, 256)         0         \n",
      "_________________________________________________________________\n",
      "dropout_30 (Dropout)         (None, 2, 2, 256)         0         \n",
      "_________________________________________________________________\n",
      "flatten_9 (Flatten)          (None, 1024)              0         \n",
      "_________________________________________________________________\n",
      "dense_17 (Dense)             (None, 512)               524800    \n",
      "_________________________________________________________________\n",
      "dropout_31 (Dropout)         (None, 512)               0         \n",
      "_________________________________________________________________\n",
      "dense_18 (Dense)             (None, 1)                 513       \n",
      "=================================================================\n",
      "Total params: 697,953\n",
      "Trainable params: 697,953\n",
      "Non-trainable params: 0\n",
      "_________________________________________________________________\n"
     ]
    }
   ],
   "source": [
    "model.summary()"
   ]
  },
  {
   "cell_type": "code",
   "execution_count": 56,
   "metadata": {},
   "outputs": [],
   "source": [
    "model.compile(optimizer='adam', loss='binary_crossentropy', metrics=['accuracy'])"
   ]
  },
  {
   "cell_type": "code",
   "execution_count": 57,
   "metadata": {},
   "outputs": [
    {
     "name": "stdout",
     "output_type": "stream",
     "text": [
      "Train on 16282 samples, validate on 3490 samples\n",
      "Epoch 1/40\n",
      "16282/16282 [==============================] - 62s 4ms/step - loss: 0.6630 - acc: 0.6023 - val_loss: 0.6141 - val_acc: 0.6607\n",
      "Epoch 2/40\n",
      "16282/16282 [==============================] - 61s 4ms/step - loss: 0.5900 - acc: 0.6866 - val_loss: 0.5462 - val_acc: 0.7223\n",
      "Epoch 3/40\n",
      "16282/16282 [==============================] - 61s 4ms/step - loss: 0.5383 - acc: 0.7259 - val_loss: 0.5216 - val_acc: 0.7350\n",
      "Epoch 4/40\n",
      "16282/16282 [==============================] - 61s 4ms/step - loss: 0.5080 - acc: 0.7518 - val_loss: 0.4948 - val_acc: 0.7633\n",
      "Epoch 5/40\n",
      "16282/16282 [==============================] - 61s 4ms/step - loss: 0.4822 - acc: 0.7659 - val_loss: 0.4836 - val_acc: 0.7699\n",
      "Epoch 6/40\n",
      "16282/16282 [==============================] - 61s 4ms/step - loss: 0.4606 - acc: 0.7787 - val_loss: 0.4595 - val_acc: 0.7834\n",
      "Epoch 7/40\n",
      "16282/16282 [==============================] - 61s 4ms/step - loss: 0.4427 - acc: 0.7935 - val_loss: 0.4449 - val_acc: 0.7968\n",
      "Epoch 8/40\n",
      "16282/16282 [==============================] - 61s 4ms/step - loss: 0.4292 - acc: 0.7999 - val_loss: 0.4243 - val_acc: 0.8083\n",
      "Epoch 9/40\n",
      "16282/16282 [==============================] - 61s 4ms/step - loss: 0.4100 - acc: 0.8106 - val_loss: 0.4245 - val_acc: 0.8017\n",
      "Epoch 10/40\n",
      "16282/16282 [==============================] - 62s 4ms/step - loss: 0.3929 - acc: 0.8200 - val_loss: 0.4047 - val_acc: 0.8083\n",
      "Epoch 11/40\n",
      "16282/16282 [==============================] - 61s 4ms/step - loss: 0.3796 - acc: 0.8313 - val_loss: 0.4171 - val_acc: 0.8060\n",
      "Epoch 12/40\n",
      "16282/16282 [==============================] - 62s 4ms/step - loss: 0.3712 - acc: 0.8318 - val_loss: 0.4220 - val_acc: 0.8037\n",
      "Epoch 13/40\n",
      "16282/16282 [==============================] - 62s 4ms/step - loss: 0.3625 - acc: 0.8348 - val_loss: 0.3925 - val_acc: 0.8241\n",
      "Epoch 14/40\n",
      "16282/16282 [==============================] - 62s 4ms/step - loss: 0.3540 - acc: 0.8389 - val_loss: 0.3958 - val_acc: 0.8206\n",
      "Epoch 15/40\n",
      "16282/16282 [==============================] - 62s 4ms/step - loss: 0.3471 - acc: 0.8458 - val_loss: 0.3841 - val_acc: 0.8229\n",
      "Epoch 16/40\n",
      "16282/16282 [==============================] - 62s 4ms/step - loss: 0.3350 - acc: 0.8516 - val_loss: 0.3803 - val_acc: 0.8238\n",
      "Epoch 17/40\n",
      "16282/16282 [==============================] - 62s 4ms/step - loss: 0.3300 - acc: 0.8505 - val_loss: 0.3871 - val_acc: 0.8223\n",
      "Epoch 18/40\n",
      "16282/16282 [==============================] - 62s 4ms/step - loss: 0.3196 - acc: 0.8584 - val_loss: 0.3905 - val_acc: 0.8189\n",
      "Epoch 19/40\n",
      "16282/16282 [==============================] - 62s 4ms/step - loss: 0.3085 - acc: 0.8659 - val_loss: 0.3931 - val_acc: 0.8218\n",
      "Epoch 20/40\n",
      "16282/16282 [==============================] - 62s 4ms/step - loss: 0.3061 - acc: 0.8640 - val_loss: 0.3704 - val_acc: 0.8315\n",
      "Epoch 21/40\n",
      "16282/16282 [==============================] - 62s 4ms/step - loss: 0.2962 - acc: 0.8701 - val_loss: 0.4027 - val_acc: 0.8169\n",
      "Epoch 22/40\n",
      "16282/16282 [==============================] - 62s 4ms/step - loss: 0.2866 - acc: 0.8748 - val_loss: 0.3800 - val_acc: 0.8269\n",
      "Epoch 23/40\n",
      "16282/16282 [==============================] - 62s 4ms/step - loss: 0.2848 - acc: 0.8740 - val_loss: 0.3790 - val_acc: 0.8330\n",
      "Epoch 24/40\n",
      "16282/16282 [==============================] - 62s 4ms/step - loss: 0.2803 - acc: 0.8764 - val_loss: 0.3634 - val_acc: 0.8393\n",
      "Epoch 25/40\n",
      "16282/16282 [==============================] - 62s 4ms/step - loss: 0.2790 - acc: 0.8805 - val_loss: 0.3707 - val_acc: 0.8321\n",
      "Epoch 26/40\n",
      "16282/16282 [==============================] - 63s 4ms/step - loss: 0.2684 - acc: 0.8851 - val_loss: 0.3863 - val_acc: 0.8295\n",
      "Epoch 27/40\n",
      "16282/16282 [==============================] - 62s 4ms/step - loss: 0.2624 - acc: 0.8883 - val_loss: 0.3617 - val_acc: 0.8413\n",
      "Epoch 28/40\n",
      "16282/16282 [==============================] - 62s 4ms/step - loss: 0.2574 - acc: 0.8859 - val_loss: 0.3601 - val_acc: 0.8421\n",
      "Epoch 29/40\n",
      "16282/16282 [==============================] - 63s 4ms/step - loss: 0.2475 - acc: 0.8955 - val_loss: 0.3663 - val_acc: 0.8324\n",
      "Epoch 30/40\n",
      "16282/16282 [==============================] - 63s 4ms/step - loss: 0.2442 - acc: 0.8941 - val_loss: 0.3748 - val_acc: 0.8355\n",
      "Epoch 31/40\n",
      "16282/16282 [==============================] - 63s 4ms/step - loss: 0.2469 - acc: 0.8969 - val_loss: 0.3807 - val_acc: 0.8390\n",
      "Epoch 32/40\n",
      "16282/16282 [==============================] - 63s 4ms/step - loss: 0.2367 - acc: 0.9000 - val_loss: 0.3761 - val_acc: 0.8350\n",
      "Epoch 33/40\n",
      "16282/16282 [==============================] - 64s 4ms/step - loss: 0.2355 - acc: 0.9010 - val_loss: 0.3761 - val_acc: 0.8370\n",
      "Epoch 34/40\n",
      "16282/16282 [==============================] - 62s 4ms/step - loss: 0.2281 - acc: 0.9015 - val_loss: 0.3817 - val_acc: 0.8407\n",
      "Epoch 35/40\n",
      "16282/16282 [==============================] - 63s 4ms/step - loss: 0.2257 - acc: 0.9050 - val_loss: 0.3727 - val_acc: 0.8418\n",
      "Epoch 36/40\n",
      "16282/16282 [==============================] - 62s 4ms/step - loss: 0.2140 - acc: 0.9104 - val_loss: 0.3890 - val_acc: 0.8395\n",
      "Epoch 37/40\n",
      "16282/16282 [==============================] - 62s 4ms/step - loss: 0.2240 - acc: 0.9063 - val_loss: 0.3891 - val_acc: 0.8307\n",
      "Epoch 38/40\n",
      "16282/16282 [==============================] - 62s 4ms/step - loss: 0.2198 - acc: 0.9074 - val_loss: 0.3843 - val_acc: 0.8350\n",
      "Epoch 39/40\n",
      "16282/16282 [==============================] - 62s 4ms/step - loss: 0.2136 - acc: 0.9140 - val_loss: 0.3904 - val_acc: 0.8387\n",
      "Epoch 40/40\n",
      "16282/16282 [==============================] - 63s 4ms/step - loss: 0.2079 - acc: 0.9135 - val_loss: 0.3799 - val_acc: 0.8372\n"
     ]
    }
   ],
   "source": [
    "second_model_output = model.fit(X_train, y_train, epochs=40,  validation_data=(X_validate, y_validate))\n",
    "second_model = model"
   ]
  },
  {
   "cell_type": "code",
   "execution_count": 58,
   "metadata": {},
   "outputs": [],
   "source": [
    "metrics = pd.DataFrame(second_model_output.history)"
   ]
  },
  {
   "cell_type": "code",
   "execution_count": 59,
   "metadata": {
    "scrolled": true
   },
   "outputs": [
    {
     "data": {
      "text/plain": [
       "<matplotlib.axes._subplots.AxesSubplot at 0x7f97ccabb278>"
      ]
     },
     "execution_count": 59,
     "metadata": {},
     "output_type": "execute_result"
    },
    {
     "data": {
      "image/png": "[encoded data removed]",
      "text/plain": [
       "<Figure size 432x288 with 1 Axes>"
      ]
     },
     "metadata": {
      "needs_background": "light"
     },
     "output_type": "display_data"
    }
   ],
   "source": [
    "sns.lineplot(data=metrics, x = metrics.index, y='acc')\n",
    "sns.lineplot(data=metrics, x = metrics.index, y='val_acc')"
   ]
  },
  {
   "cell_type": "code",
   "execution_count": 60,
   "metadata": {},
   "outputs": [
    {
     "data": {
      "text/plain": [
       "<matplotlib.axes._subplots.AxesSubplot at 0x7f97cca1c518>"
      ]
     },
     "execution_count": 60,
     "metadata": {},
     "output_type": "execute_result"
    },
    {
     "data": {
      "image/png": "[encoded data removed]",
      "text/plain": [
       "<Figure size 432x288 with 1 Axes>"
      ]
     },
     "metadata": {
      "needs_background": "light"
     },
     "output_type": "display_data"
    }
   ],
   "source": [
    "sns.lineplot(data=metrics, x = metrics.index, y='loss')\n",
    "sns.lineplot(data=metrics, x = metrics.index, y='val_loss')"
   ]
  }
 ],
 "metadata": {
  "kernelspec": {
   "display_name": "Python 3",
   "language": "python",
   "name": "python3"
  },
  "language_info": {
   "codemirror_mode": {
    "name": "ipython",
    "version": 3
   },
   "file_extension": ".py",
   "mimetype": "text/x-python",
   "name": "python",
   "nbconvert_exporter": "python",
   "pygments_lexer": "ipython3",
   "version": "3.6.8"
  }
 },
 "nbformat": 4,
 "nbformat_minor": 2
}
